{
 "cells": [
  {
   "cell_type": "code",
   "execution_count": 25,
   "metadata": {},
   "outputs": [],
   "source": [
    "%matplotlib inline\n",
    "import matplotlib.pyplot as plt\n",
    "from csv import reader\n",
    "from math import sqrt\n",
    "import pandas as pd\n",
    "from random import seed\n",
    "from random import randrange\n",
    "    \n",
    "filepath = 'C:/Users/garritat/Desktop/cis_512/' \n",
    "filename = 'train.csv'\n",
    "full = filepath + filename \n",
    "\n",
    "data = pd.read_csv(full,usecols=(0,4,12,38,43,44,80))\n",
    "data.head()\n",
    "\n",
    "\n",
    "data['totalSqrFt'] = data['1stFlrSF'] + data['2ndFlrSF'] + data['TotalBsmtSF']\n",
    "data['price_per_sqrFT'] = data['SalePrice'] / data['totalSqrFt']\n",
    "\n",
    "def mean(values):\n",
    "    return sum(values) / float(len(values))\n",
    "\n",
    "sale_price_mean = mean(data['SalePrice'])\n",
    "sqr_ft_mean = mean(data['totalSqrFt'])\n",
    "\n",
    "def variance(values, mean):\n",
    "    return sum([(x-mean)**2 for x in values])\n",
    "\n",
    "sqr_ft_var = variance(data['totalSqrFt'],sqr_ft_mean)\n",
    "\n",
    "def covariance(x, mean_x, y, mean_y):\n",
    "    covar = 0.0\n",
    "    for i in range(len(x)):\n",
    "        covar += (x[i] - mean_x) * (y[i] - mean_y)\n",
    "    return covar\n",
    "\n",
    "covar = covariance(data['totalSqrFt'], sqr_ft_mean, data['SalePrice'], sale_price_mean)\n",
    "\n",
    "def coefficients(x, x_mean, y, y_mean, c, v):\n",
    "    b1 = covariance(x, x_mean, y, y_mean) / variance(x, x_mean)\n",
    "    ##b0 = y_mean - b1 * x_mean\n",
    "    return [b0]##, b1]\n",
    "\n",
    "b0, b1 = coefficients(sqr_ft_mean,)"
   ]
  },
  {
   "cell_type": "code",
   "execution_count": 26,
   "metadata": {},
   "outputs": [
    {
     "name": "stdout",
     "output_type": "stream",
     "text": [
      "180921.19589041095\n"
     ]
    }
   ],
   "source": [
    "print(sale_price_mean)"
   ]
  },
  {
   "cell_type": "code",
   "execution_count": 27,
   "metadata": {},
   "outputs": [
    {
     "name": "stdout",
     "output_type": "stream",
     "text": [
      "985138085.5472586\n"
     ]
    }
   ],
   "source": [
    "print(sqr_ft_var)"
   ]
  },
  {
   "cell_type": "code",
   "execution_count": 20,
   "metadata": {},
   "outputs": [
    {
     "name": "stdout",
     "output_type": "stream",
     "text": [
      "2567.0486301369865\n"
     ]
    }
   ],
   "source": [
    "print(sqr_ft_mean)"
   ]
  },
  {
   "cell_type": "code",
   "execution_count": 24,
   "metadata": {},
   "outputs": [
    {
     "name": "stdout",
     "output_type": "stream",
     "text": [
      "74504116998.09174\n"
     ]
    }
   ],
   "source": [
    "print(covar)"
   ]
  },
  {
   "cell_type": "code",
   "execution_count": null,
   "metadata": {},
   "outputs": [],
   "source": []
  }
 ],
 "metadata": {
  "kernelspec": {
   "display_name": "Python 3",
   "language": "python",
   "name": "python3"
  },
  "language_info": {
   "codemirror_mode": {
    "name": "ipython",
    "version": 3
   },
   "file_extension": ".py",
   "mimetype": "text/x-python",
   "name": "python",
   "nbconvert_exporter": "python",
   "pygments_lexer": "ipython3",
   "version": "3.6.4"
  }
 },
 "nbformat": 4,
 "nbformat_minor": 2
}
