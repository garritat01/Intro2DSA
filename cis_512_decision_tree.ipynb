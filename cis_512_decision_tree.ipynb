{
 "cells": [
  {
   "cell_type": "code",
   "execution_count": 84,
   "metadata": {},
   "outputs": [],
   "source": [
    "\n",
    "def tree(square_meters,years_old,bedrooms):\n",
    "    if square_meters < 160:\n",
    "        print(\"house less than 160 square meters\")\n",
    "        if years_old > 25:\n",
    "            print(\"house greater than 25 years old\")\n",
    "            if square_meters > 100:\n",
    "                return 285\n",
    "            else:\n",
    "                return 217\n",
    "        else:\n",
    "            print(\"House less than 25 years old\")\n",
    "            if bedrooms > 2:\n",
    "                return 341\n",
    "            else:\n",
    "                return 258\n",
    "    if square_meters > 160:\n",
    "        print(\"house greater than 160 square meters\")\n",
    "        if bedrooms > 3:\n",
    "            print(\"more than 3 bedrooms\")\n",
    "            if years_old < 10:\n",
    "                print(\"House less than 10 years old\")\n",
    "                return 510\n",
    "            else:\n",
    "                return 382\n",
    "        else:\n",
    "            print(\"3 bedrooms or less\")\n",
    "            if years_old < 40:\n",
    "                print(\"house less than 40 years old\")\n",
    "                return 335\n",
    "            else:\n",
    "                return 312\n",
    "    \n",
    "         "
   ]
  },
  {
   "cell_type": "code",
   "execution_count": 85,
   "metadata": {
    "scrolled": true
   },
   "outputs": [
    {
     "name": "stdout",
     "output_type": "stream",
     "text": [
      "house greater than 160 square meters\n",
      "3 bedrooms or less\n",
      "The price of the house is:  312\n"
     ]
    }
   ],
   "source": [
    "value = tree(300,42,2)\n",
    "print(\"The price of the house is: \",value)"
   ]
  },
  {
   "cell_type": "code",
   "execution_count": null,
   "metadata": {},
   "outputs": [],
   "source": []
  },
  {
   "cell_type": "code",
   "execution_count": null,
   "metadata": {},
   "outputs": [],
   "source": []
  }
 ],
 "metadata": {
  "kernelspec": {
   "display_name": "Python 3",
   "language": "python",
   "name": "python3"
  },
  "language_info": {
   "codemirror_mode": {
    "name": "ipython",
    "version": 3
   },
   "file_extension": ".py",
   "mimetype": "text/x-python",
   "name": "python",
   "nbconvert_exporter": "python",
   "pygments_lexer": "ipython3",
   "version": "3.6.4"
  }
 },
 "nbformat": 4,
 "nbformat_minor": 2
}
